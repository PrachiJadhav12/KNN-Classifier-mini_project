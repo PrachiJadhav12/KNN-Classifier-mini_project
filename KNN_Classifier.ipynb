{
  "nbformat": 4,
  "nbformat_minor": 0,
  "metadata": {
    "colab": {
      "provenance": [],
      "authorship_tag": "ABX9TyNBd0xV7vOZstQfXmoV0uqP",
      "include_colab_link": true
    },
    "kernelspec": {
      "name": "python3",
      "display_name": "Python 3"
    },
    "language_info": {
      "name": "python"
    }
  },
  "cells": [
    {
      "cell_type": "markdown",
      "metadata": {
        "id": "view-in-github",
        "colab_type": "text"
      },
      "source": [
        "<a href=\"https://colab.research.google.com/github/PrachiJadhav12/KNN-Classifier-mini_project/blob/main/KNN_Classifier.ipynb\" target=\"_parent\"><img src=\"https://colab.research.google.com/assets/colab-badge.svg\" alt=\"Open In Colab\"/></a>"
      ]
    },
    {
      "cell_type": "code",
      "execution_count": 3,
      "metadata": {
        "id": "EKSYi4rXl07Q"
      },
      "outputs": [],
      "source": [
        "import numpy as np\n",
        "import pandas as pd\n",
        "import matplotlib.pyplot as plt"
      ]
    },
    {
      "cell_type": "code",
      "source": [
        "data = pd.read_csv('/content/drive/MyDrive/Campus X/Data/Social_Network_Ads.csv')"
      ],
      "metadata": {
        "id": "7fzAxKxinkUK"
      },
      "execution_count": 4,
      "outputs": []
    },
    {
      "cell_type": "code",
      "source": [
        "from google.colab import drive\n",
        "drive.mount('/content/drive')"
      ],
      "metadata": {
        "colab": {
          "base_uri": "https://localhost:8080/"
        },
        "id": "4mXTXi3xnwBs",
        "outputId": "244a66d4-33fa-4c7e-ad88-f75d92ee3e7f"
      },
      "execution_count": 1,
      "outputs": [
        {
          "output_type": "stream",
          "name": "stdout",
          "text": [
            "Mounted at /content/drive\n"
          ]
        }
      ]
    },
    {
      "cell_type": "code",
      "source": [
        "data.head()"
      ],
      "metadata": {
        "colab": {
          "base_uri": "https://localhost:8080/",
          "height": 206
        },
        "id": "fnJ9Uo6NoNxJ",
        "outputId": "9c8614f8-56ab-4317-8255-7fbb6b3c8f0e"
      },
      "execution_count": 5,
      "outputs": [
        {
          "output_type": "execute_result",
          "data": {
            "text/plain": [
              "    User ID  Gender  Age  EstimatedSalary  Purchased\n",
              "0  15624510    Male   19            19000          0\n",
              "1  15810944    Male   35            20000          0\n",
              "2  15668575  Female   26            43000          0\n",
              "3  15603246  Female   27            57000          0\n",
              "4  15804002    Male   19            76000          0"
            ],
            "text/html": [
              "\n",
              "  <div id=\"df-ad2718e8-94fd-4d0b-985e-f469e9928c48\">\n",
              "    <div class=\"colab-df-container\">\n",
              "      <div>\n",
              "<style scoped>\n",
              "    .dataframe tbody tr th:only-of-type {\n",
              "        vertical-align: middle;\n",
              "    }\n",
              "\n",
              "    .dataframe tbody tr th {\n",
              "        vertical-align: top;\n",
              "    }\n",
              "\n",
              "    .dataframe thead th {\n",
              "        text-align: right;\n",
              "    }\n",
              "</style>\n",
              "<table border=\"1\" class=\"dataframe\">\n",
              "  <thead>\n",
              "    <tr style=\"text-align: right;\">\n",
              "      <th></th>\n",
              "      <th>User ID</th>\n",
              "      <th>Gender</th>\n",
              "      <th>Age</th>\n",
              "      <th>EstimatedSalary</th>\n",
              "      <th>Purchased</th>\n",
              "    </tr>\n",
              "  </thead>\n",
              "  <tbody>\n",
              "    <tr>\n",
              "      <th>0</th>\n",
              "      <td>15624510</td>\n",
              "      <td>Male</td>\n",
              "      <td>19</td>\n",
              "      <td>19000</td>\n",
              "      <td>0</td>\n",
              "    </tr>\n",
              "    <tr>\n",
              "      <th>1</th>\n",
              "      <td>15810944</td>\n",
              "      <td>Male</td>\n",
              "      <td>35</td>\n",
              "      <td>20000</td>\n",
              "      <td>0</td>\n",
              "    </tr>\n",
              "    <tr>\n",
              "      <th>2</th>\n",
              "      <td>15668575</td>\n",
              "      <td>Female</td>\n",
              "      <td>26</td>\n",
              "      <td>43000</td>\n",
              "      <td>0</td>\n",
              "    </tr>\n",
              "    <tr>\n",
              "      <th>3</th>\n",
              "      <td>15603246</td>\n",
              "      <td>Female</td>\n",
              "      <td>27</td>\n",
              "      <td>57000</td>\n",
              "      <td>0</td>\n",
              "    </tr>\n",
              "    <tr>\n",
              "      <th>4</th>\n",
              "      <td>15804002</td>\n",
              "      <td>Male</td>\n",
              "      <td>19</td>\n",
              "      <td>76000</td>\n",
              "      <td>0</td>\n",
              "    </tr>\n",
              "  </tbody>\n",
              "</table>\n",
              "</div>\n",
              "      <button class=\"colab-df-convert\" onclick=\"convertToInteractive('df-ad2718e8-94fd-4d0b-985e-f469e9928c48')\"\n",
              "              title=\"Convert this dataframe to an interactive table.\"\n",
              "              style=\"display:none;\">\n",
              "        \n",
              "  <svg xmlns=\"http://www.w3.org/2000/svg\" height=\"24px\"viewBox=\"0 0 24 24\"\n",
              "       width=\"24px\">\n",
              "    <path d=\"M0 0h24v24H0V0z\" fill=\"none\"/>\n",
              "    <path d=\"M18.56 5.44l.94 2.06.94-2.06 2.06-.94-2.06-.94-.94-2.06-.94 2.06-2.06.94zm-11 1L8.5 8.5l.94-2.06 2.06-.94-2.06-.94L8.5 2.5l-.94 2.06-2.06.94zm10 10l.94 2.06.94-2.06 2.06-.94-2.06-.94-.94-2.06-.94 2.06-2.06.94z\"/><path d=\"M17.41 7.96l-1.37-1.37c-.4-.4-.92-.59-1.43-.59-.52 0-1.04.2-1.43.59L10.3 9.45l-7.72 7.72c-.78.78-.78 2.05 0 2.83L4 21.41c.39.39.9.59 1.41.59.51 0 1.02-.2 1.41-.59l7.78-7.78 2.81-2.81c.8-.78.8-2.07 0-2.86zM5.41 20L4 18.59l7.72-7.72 1.47 1.35L5.41 20z\"/>\n",
              "  </svg>\n",
              "      </button>\n",
              "      \n",
              "  <style>\n",
              "    .colab-df-container {\n",
              "      display:flex;\n",
              "      flex-wrap:wrap;\n",
              "      gap: 12px;\n",
              "    }\n",
              "\n",
              "    .colab-df-convert {\n",
              "      background-color: #E8F0FE;\n",
              "      border: none;\n",
              "      border-radius: 50%;\n",
              "      cursor: pointer;\n",
              "      display: none;\n",
              "      fill: #1967D2;\n",
              "      height: 32px;\n",
              "      padding: 0 0 0 0;\n",
              "      width: 32px;\n",
              "    }\n",
              "\n",
              "    .colab-df-convert:hover {\n",
              "      background-color: #E2EBFA;\n",
              "      box-shadow: 0px 1px 2px rgba(60, 64, 67, 0.3), 0px 1px 3px 1px rgba(60, 64, 67, 0.15);\n",
              "      fill: #174EA6;\n",
              "    }\n",
              "\n",
              "    [theme=dark] .colab-df-convert {\n",
              "      background-color: #3B4455;\n",
              "      fill: #D2E3FC;\n",
              "    }\n",
              "\n",
              "    [theme=dark] .colab-df-convert:hover {\n",
              "      background-color: #434B5C;\n",
              "      box-shadow: 0px 1px 3px 1px rgba(0, 0, 0, 0.15);\n",
              "      filter: drop-shadow(0px 1px 2px rgba(0, 0, 0, 0.3));\n",
              "      fill: #FFFFFF;\n",
              "    }\n",
              "  </style>\n",
              "\n",
              "      <script>\n",
              "        const buttonEl =\n",
              "          document.querySelector('#df-ad2718e8-94fd-4d0b-985e-f469e9928c48 button.colab-df-convert');\n",
              "        buttonEl.style.display =\n",
              "          google.colab.kernel.accessAllowed ? 'block' : 'none';\n",
              "\n",
              "        async function convertToInteractive(key) {\n",
              "          const element = document.querySelector('#df-ad2718e8-94fd-4d0b-985e-f469e9928c48');\n",
              "          const dataTable =\n",
              "            await google.colab.kernel.invokeFunction('convertToInteractive',\n",
              "                                                     [key], {});\n",
              "          if (!dataTable) return;\n",
              "\n",
              "          const docLinkHtml = 'Like what you see? Visit the ' +\n",
              "            '<a target=\"_blank\" href=https://colab.research.google.com/notebooks/data_table.ipynb>data table notebook</a>'\n",
              "            + ' to learn more about interactive tables.';\n",
              "          element.innerHTML = '';\n",
              "          dataTable['output_type'] = 'display_data';\n",
              "          await google.colab.output.renderOutput(dataTable, element);\n",
              "          const docLink = document.createElement('div');\n",
              "          docLink.innerHTML = docLinkHtml;\n",
              "          element.appendChild(docLink);\n",
              "        }\n",
              "      </script>\n",
              "    </div>\n",
              "  </div>\n",
              "  "
            ]
          },
          "metadata": {},
          "execution_count": 5
        }
      ]
    },
    {
      "cell_type": "code",
      "source": [
        "data.iloc[:,2:4]"
      ],
      "metadata": {
        "colab": {
          "base_uri": "https://localhost:8080/",
          "height": 423
        },
        "id": "DN-ndqIQoSmy",
        "outputId": "69f42368-df29-4285-ceb8-601354a351db"
      },
      "execution_count": 7,
      "outputs": [
        {
          "output_type": "execute_result",
          "data": {
            "text/plain": [
              "     Age  EstimatedSalary\n",
              "0     19            19000\n",
              "1     35            20000\n",
              "2     26            43000\n",
              "3     27            57000\n",
              "4     19            76000\n",
              "..   ...              ...\n",
              "395   46            41000\n",
              "396   51            23000\n",
              "397   50            20000\n",
              "398   36            33000\n",
              "399   49            36000\n",
              "\n",
              "[400 rows x 2 columns]"
            ],
            "text/html": [
              "\n",
              "  <div id=\"df-ce4b615a-b612-4651-832c-9d5b6fef95bf\">\n",
              "    <div class=\"colab-df-container\">\n",
              "      <div>\n",
              "<style scoped>\n",
              "    .dataframe tbody tr th:only-of-type {\n",
              "        vertical-align: middle;\n",
              "    }\n",
              "\n",
              "    .dataframe tbody tr th {\n",
              "        vertical-align: top;\n",
              "    }\n",
              "\n",
              "    .dataframe thead th {\n",
              "        text-align: right;\n",
              "    }\n",
              "</style>\n",
              "<table border=\"1\" class=\"dataframe\">\n",
              "  <thead>\n",
              "    <tr style=\"text-align: right;\">\n",
              "      <th></th>\n",
              "      <th>Age</th>\n",
              "      <th>EstimatedSalary</th>\n",
              "    </tr>\n",
              "  </thead>\n",
              "  <tbody>\n",
              "    <tr>\n",
              "      <th>0</th>\n",
              "      <td>19</td>\n",
              "      <td>19000</td>\n",
              "    </tr>\n",
              "    <tr>\n",
              "      <th>1</th>\n",
              "      <td>35</td>\n",
              "      <td>20000</td>\n",
              "    </tr>\n",
              "    <tr>\n",
              "      <th>2</th>\n",
              "      <td>26</td>\n",
              "      <td>43000</td>\n",
              "    </tr>\n",
              "    <tr>\n",
              "      <th>3</th>\n",
              "      <td>27</td>\n",
              "      <td>57000</td>\n",
              "    </tr>\n",
              "    <tr>\n",
              "      <th>4</th>\n",
              "      <td>19</td>\n",
              "      <td>76000</td>\n",
              "    </tr>\n",
              "    <tr>\n",
              "      <th>...</th>\n",
              "      <td>...</td>\n",
              "      <td>...</td>\n",
              "    </tr>\n",
              "    <tr>\n",
              "      <th>395</th>\n",
              "      <td>46</td>\n",
              "      <td>41000</td>\n",
              "    </tr>\n",
              "    <tr>\n",
              "      <th>396</th>\n",
              "      <td>51</td>\n",
              "      <td>23000</td>\n",
              "    </tr>\n",
              "    <tr>\n",
              "      <th>397</th>\n",
              "      <td>50</td>\n",
              "      <td>20000</td>\n",
              "    </tr>\n",
              "    <tr>\n",
              "      <th>398</th>\n",
              "      <td>36</td>\n",
              "      <td>33000</td>\n",
              "    </tr>\n",
              "    <tr>\n",
              "      <th>399</th>\n",
              "      <td>49</td>\n",
              "      <td>36000</td>\n",
              "    </tr>\n",
              "  </tbody>\n",
              "</table>\n",
              "<p>400 rows × 2 columns</p>\n",
              "</div>\n",
              "      <button class=\"colab-df-convert\" onclick=\"convertToInteractive('df-ce4b615a-b612-4651-832c-9d5b6fef95bf')\"\n",
              "              title=\"Convert this dataframe to an interactive table.\"\n",
              "              style=\"display:none;\">\n",
              "        \n",
              "  <svg xmlns=\"http://www.w3.org/2000/svg\" height=\"24px\"viewBox=\"0 0 24 24\"\n",
              "       width=\"24px\">\n",
              "    <path d=\"M0 0h24v24H0V0z\" fill=\"none\"/>\n",
              "    <path d=\"M18.56 5.44l.94 2.06.94-2.06 2.06-.94-2.06-.94-.94-2.06-.94 2.06-2.06.94zm-11 1L8.5 8.5l.94-2.06 2.06-.94-2.06-.94L8.5 2.5l-.94 2.06-2.06.94zm10 10l.94 2.06.94-2.06 2.06-.94-2.06-.94-.94-2.06-.94 2.06-2.06.94z\"/><path d=\"M17.41 7.96l-1.37-1.37c-.4-.4-.92-.59-1.43-.59-.52 0-1.04.2-1.43.59L10.3 9.45l-7.72 7.72c-.78.78-.78 2.05 0 2.83L4 21.41c.39.39.9.59 1.41.59.51 0 1.02-.2 1.41-.59l7.78-7.78 2.81-2.81c.8-.78.8-2.07 0-2.86zM5.41 20L4 18.59l7.72-7.72 1.47 1.35L5.41 20z\"/>\n",
              "  </svg>\n",
              "      </button>\n",
              "      \n",
              "  <style>\n",
              "    .colab-df-container {\n",
              "      display:flex;\n",
              "      flex-wrap:wrap;\n",
              "      gap: 12px;\n",
              "    }\n",
              "\n",
              "    .colab-df-convert {\n",
              "      background-color: #E8F0FE;\n",
              "      border: none;\n",
              "      border-radius: 50%;\n",
              "      cursor: pointer;\n",
              "      display: none;\n",
              "      fill: #1967D2;\n",
              "      height: 32px;\n",
              "      padding: 0 0 0 0;\n",
              "      width: 32px;\n",
              "    }\n",
              "\n",
              "    .colab-df-convert:hover {\n",
              "      background-color: #E2EBFA;\n",
              "      box-shadow: 0px 1px 2px rgba(60, 64, 67, 0.3), 0px 1px 3px 1px rgba(60, 64, 67, 0.15);\n",
              "      fill: #174EA6;\n",
              "    }\n",
              "\n",
              "    [theme=dark] .colab-df-convert {\n",
              "      background-color: #3B4455;\n",
              "      fill: #D2E3FC;\n",
              "    }\n",
              "\n",
              "    [theme=dark] .colab-df-convert:hover {\n",
              "      background-color: #434B5C;\n",
              "      box-shadow: 0px 1px 3px 1px rgba(0, 0, 0, 0.15);\n",
              "      filter: drop-shadow(0px 1px 2px rgba(0, 0, 0, 0.3));\n",
              "      fill: #FFFFFF;\n",
              "    }\n",
              "  </style>\n",
              "\n",
              "      <script>\n",
              "        const buttonEl =\n",
              "          document.querySelector('#df-ce4b615a-b612-4651-832c-9d5b6fef95bf button.colab-df-convert');\n",
              "        buttonEl.style.display =\n",
              "          google.colab.kernel.accessAllowed ? 'block' : 'none';\n",
              "\n",
              "        async function convertToInteractive(key) {\n",
              "          const element = document.querySelector('#df-ce4b615a-b612-4651-832c-9d5b6fef95bf');\n",
              "          const dataTable =\n",
              "            await google.colab.kernel.invokeFunction('convertToInteractive',\n",
              "                                                     [key], {});\n",
              "          if (!dataTable) return;\n",
              "\n",
              "          const docLinkHtml = 'Like what you see? Visit the ' +\n",
              "            '<a target=\"_blank\" href=https://colab.research.google.com/notebooks/data_table.ipynb>data table notebook</a>'\n",
              "            + ' to learn more about interactive tables.';\n",
              "          element.innerHTML = '';\n",
              "          dataTable['output_type'] = 'display_data';\n",
              "          await google.colab.output.renderOutput(dataTable, element);\n",
              "          const docLink = document.createElement('div');\n",
              "          docLink.innerHTML = docLinkHtml;\n",
              "          element.appendChild(docLink);\n",
              "        }\n",
              "      </script>\n",
              "    </div>\n",
              "  </div>\n",
              "  "
            ]
          },
          "metadata": {},
          "execution_count": 7
        }
      ]
    },
    {
      "cell_type": "code",
      "source": [
        "#converting into numpy array\n",
        "X = data.iloc[:,2:4].values"
      ],
      "metadata": {
        "id": "wo5vjuxGobPJ"
      },
      "execution_count": 9,
      "outputs": []
    },
    {
      "cell_type": "code",
      "source": [
        "X"
      ],
      "metadata": {
        "colab": {
          "base_uri": "https://localhost:8080/"
        },
        "id": "KohphZtRoxeJ",
        "outputId": "9702b2bf-bd3f-4268-bc7f-6cb452a01879"
      },
      "execution_count": 10,
      "outputs": [
        {
          "output_type": "execute_result",
          "data": {
            "text/plain": [
              "array([[    19,  19000],\n",
              "       [    35,  20000],\n",
              "       [    26,  43000],\n",
              "       [    27,  57000],\n",
              "       [    19,  76000],\n",
              "       [    27,  58000],\n",
              "       [    27,  84000],\n",
              "       [    32, 150000],\n",
              "       [    25,  33000],\n",
              "       [    35,  65000],\n",
              "       [    26,  80000],\n",
              "       [    26,  52000],\n",
              "       [    20,  86000],\n",
              "       [    32,  18000],\n",
              "       [    18,  82000],\n",
              "       [    29,  80000],\n",
              "       [    47,  25000],\n",
              "       [    45,  26000],\n",
              "       [    46,  28000],\n",
              "       [    48,  29000],\n",
              "       [    45,  22000],\n",
              "       [    47,  49000],\n",
              "       [    48,  41000],\n",
              "       [    45,  22000],\n",
              "       [    46,  23000],\n",
              "       [    47,  20000],\n",
              "       [    49,  28000],\n",
              "       [    47,  30000],\n",
              "       [    29,  43000],\n",
              "       [    31,  18000],\n",
              "       [    31,  74000],\n",
              "       [    27, 137000],\n",
              "       [    21,  16000],\n",
              "       [    28,  44000],\n",
              "       [    27,  90000],\n",
              "       [    35,  27000],\n",
              "       [    33,  28000],\n",
              "       [    30,  49000],\n",
              "       [    26,  72000],\n",
              "       [    27,  31000],\n",
              "       [    27,  17000],\n",
              "       [    33,  51000],\n",
              "       [    35, 108000],\n",
              "       [    30,  15000],\n",
              "       [    28,  84000],\n",
              "       [    23,  20000],\n",
              "       [    25,  79000],\n",
              "       [    27,  54000],\n",
              "       [    30, 135000],\n",
              "       [    31,  89000],\n",
              "       [    24,  32000],\n",
              "       [    18,  44000],\n",
              "       [    29,  83000],\n",
              "       [    35,  23000],\n",
              "       [    27,  58000],\n",
              "       [    24,  55000],\n",
              "       [    23,  48000],\n",
              "       [    28,  79000],\n",
              "       [    22,  18000],\n",
              "       [    32, 117000],\n",
              "       [    27,  20000],\n",
              "       [    25,  87000],\n",
              "       [    23,  66000],\n",
              "       [    32, 120000],\n",
              "       [    59,  83000],\n",
              "       [    24,  58000],\n",
              "       [    24,  19000],\n",
              "       [    23,  82000],\n",
              "       [    22,  63000],\n",
              "       [    31,  68000],\n",
              "       [    25,  80000],\n",
              "       [    24,  27000],\n",
              "       [    20,  23000],\n",
              "       [    33, 113000],\n",
              "       [    32,  18000],\n",
              "       [    34, 112000],\n",
              "       [    18,  52000],\n",
              "       [    22,  27000],\n",
              "       [    28,  87000],\n",
              "       [    26,  17000],\n",
              "       [    30,  80000],\n",
              "       [    39,  42000],\n",
              "       [    20,  49000],\n",
              "       [    35,  88000],\n",
              "       [    30,  62000],\n",
              "       [    31, 118000],\n",
              "       [    24,  55000],\n",
              "       [    28,  85000],\n",
              "       [    26,  81000],\n",
              "       [    35,  50000],\n",
              "       [    22,  81000],\n",
              "       [    30, 116000],\n",
              "       [    26,  15000],\n",
              "       [    29,  28000],\n",
              "       [    29,  83000],\n",
              "       [    35,  44000],\n",
              "       [    35,  25000],\n",
              "       [    28, 123000],\n",
              "       [    35,  73000],\n",
              "       [    28,  37000],\n",
              "       [    27,  88000],\n",
              "       [    28,  59000],\n",
              "       [    32,  86000],\n",
              "       [    33, 149000],\n",
              "       [    19,  21000],\n",
              "       [    21,  72000],\n",
              "       [    26,  35000],\n",
              "       [    27,  89000],\n",
              "       [    26,  86000],\n",
              "       [    38,  80000],\n",
              "       [    39,  71000],\n",
              "       [    37,  71000],\n",
              "       [    38,  61000],\n",
              "       [    37,  55000],\n",
              "       [    42,  80000],\n",
              "       [    40,  57000],\n",
              "       [    35,  75000],\n",
              "       [    36,  52000],\n",
              "       [    40,  59000],\n",
              "       [    41,  59000],\n",
              "       [    36,  75000],\n",
              "       [    37,  72000],\n",
              "       [    40,  75000],\n",
              "       [    35,  53000],\n",
              "       [    41,  51000],\n",
              "       [    39,  61000],\n",
              "       [    42,  65000],\n",
              "       [    26,  32000],\n",
              "       [    30,  17000],\n",
              "       [    26,  84000],\n",
              "       [    31,  58000],\n",
              "       [    33,  31000],\n",
              "       [    30,  87000],\n",
              "       [    21,  68000],\n",
              "       [    28,  55000],\n",
              "       [    23,  63000],\n",
              "       [    20,  82000],\n",
              "       [    30, 107000],\n",
              "       [    28,  59000],\n",
              "       [    19,  25000],\n",
              "       [    19,  85000],\n",
              "       [    18,  68000],\n",
              "       [    35,  59000],\n",
              "       [    30,  89000],\n",
              "       [    34,  25000],\n",
              "       [    24,  89000],\n",
              "       [    27,  96000],\n",
              "       [    41,  30000],\n",
              "       [    29,  61000],\n",
              "       [    20,  74000],\n",
              "       [    26,  15000],\n",
              "       [    41,  45000],\n",
              "       [    31,  76000],\n",
              "       [    36,  50000],\n",
              "       [    40,  47000],\n",
              "       [    31,  15000],\n",
              "       [    46,  59000],\n",
              "       [    29,  75000],\n",
              "       [    26,  30000],\n",
              "       [    32, 135000],\n",
              "       [    32, 100000],\n",
              "       [    25,  90000],\n",
              "       [    37,  33000],\n",
              "       [    35,  38000],\n",
              "       [    33,  69000],\n",
              "       [    18,  86000],\n",
              "       [    22,  55000],\n",
              "       [    35,  71000],\n",
              "       [    29, 148000],\n",
              "       [    29,  47000],\n",
              "       [    21,  88000],\n",
              "       [    34, 115000],\n",
              "       [    26, 118000],\n",
              "       [    34,  43000],\n",
              "       [    34,  72000],\n",
              "       [    23,  28000],\n",
              "       [    35,  47000],\n",
              "       [    25,  22000],\n",
              "       [    24,  23000],\n",
              "       [    31,  34000],\n",
              "       [    26,  16000],\n",
              "       [    31,  71000],\n",
              "       [    32, 117000],\n",
              "       [    33,  43000],\n",
              "       [    33,  60000],\n",
              "       [    31,  66000],\n",
              "       [    20,  82000],\n",
              "       [    33,  41000],\n",
              "       [    35,  72000],\n",
              "       [    28,  32000],\n",
              "       [    24,  84000],\n",
              "       [    19,  26000],\n",
              "       [    29,  43000],\n",
              "       [    19,  70000],\n",
              "       [    28,  89000],\n",
              "       [    34,  43000],\n",
              "       [    30,  79000],\n",
              "       [    20,  36000],\n",
              "       [    26,  80000],\n",
              "       [    35,  22000],\n",
              "       [    35,  39000],\n",
              "       [    49,  74000],\n",
              "       [    39, 134000],\n",
              "       [    41,  71000],\n",
              "       [    58, 101000],\n",
              "       [    47,  47000],\n",
              "       [    55, 130000],\n",
              "       [    52, 114000],\n",
              "       [    40, 142000],\n",
              "       [    46,  22000],\n",
              "       [    48,  96000],\n",
              "       [    52, 150000],\n",
              "       [    59,  42000],\n",
              "       [    35,  58000],\n",
              "       [    47,  43000],\n",
              "       [    60, 108000],\n",
              "       [    49,  65000],\n",
              "       [    40,  78000],\n",
              "       [    46,  96000],\n",
              "       [    59, 143000],\n",
              "       [    41,  80000],\n",
              "       [    35,  91000],\n",
              "       [    37, 144000],\n",
              "       [    60, 102000],\n",
              "       [    35,  60000],\n",
              "       [    37,  53000],\n",
              "       [    36, 126000],\n",
              "       [    56, 133000],\n",
              "       [    40,  72000],\n",
              "       [    42,  80000],\n",
              "       [    35, 147000],\n",
              "       [    39,  42000],\n",
              "       [    40, 107000],\n",
              "       [    49,  86000],\n",
              "       [    38, 112000],\n",
              "       [    46,  79000],\n",
              "       [    40,  57000],\n",
              "       [    37,  80000],\n",
              "       [    46,  82000],\n",
              "       [    53, 143000],\n",
              "       [    42, 149000],\n",
              "       [    38,  59000],\n",
              "       [    50,  88000],\n",
              "       [    56, 104000],\n",
              "       [    41,  72000],\n",
              "       [    51, 146000],\n",
              "       [    35,  50000],\n",
              "       [    57, 122000],\n",
              "       [    41,  52000],\n",
              "       [    35,  97000],\n",
              "       [    44,  39000],\n",
              "       [    37,  52000],\n",
              "       [    48, 134000],\n",
              "       [    37, 146000],\n",
              "       [    50,  44000],\n",
              "       [    52,  90000],\n",
              "       [    41,  72000],\n",
              "       [    40,  57000],\n",
              "       [    58,  95000],\n",
              "       [    45, 131000],\n",
              "       [    35,  77000],\n",
              "       [    36, 144000],\n",
              "       [    55, 125000],\n",
              "       [    35,  72000],\n",
              "       [    48,  90000],\n",
              "       [    42, 108000],\n",
              "       [    40,  75000],\n",
              "       [    37,  74000],\n",
              "       [    47, 144000],\n",
              "       [    40,  61000],\n",
              "       [    43, 133000],\n",
              "       [    59,  76000],\n",
              "       [    60,  42000],\n",
              "       [    39, 106000],\n",
              "       [    57,  26000],\n",
              "       [    57,  74000],\n",
              "       [    38,  71000],\n",
              "       [    49,  88000],\n",
              "       [    52,  38000],\n",
              "       [    50,  36000],\n",
              "       [    59,  88000],\n",
              "       [    35,  61000],\n",
              "       [    37,  70000],\n",
              "       [    52,  21000],\n",
              "       [    48, 141000],\n",
              "       [    37,  93000],\n",
              "       [    37,  62000],\n",
              "       [    48, 138000],\n",
              "       [    41,  79000],\n",
              "       [    37,  78000],\n",
              "       [    39, 134000],\n",
              "       [    49,  89000],\n",
              "       [    55,  39000],\n",
              "       [    37,  77000],\n",
              "       [    35,  57000],\n",
              "       [    36,  63000],\n",
              "       [    42,  73000],\n",
              "       [    43, 112000],\n",
              "       [    45,  79000],\n",
              "       [    46, 117000],\n",
              "       [    58,  38000],\n",
              "       [    48,  74000],\n",
              "       [    37, 137000],\n",
              "       [    37,  79000],\n",
              "       [    40,  60000],\n",
              "       [    42,  54000],\n",
              "       [    51, 134000],\n",
              "       [    47, 113000],\n",
              "       [    36, 125000],\n",
              "       [    38,  50000],\n",
              "       [    42,  70000],\n",
              "       [    39,  96000],\n",
              "       [    38,  50000],\n",
              "       [    49, 141000],\n",
              "       [    39,  79000],\n",
              "       [    39,  75000],\n",
              "       [    54, 104000],\n",
              "       [    35,  55000],\n",
              "       [    45,  32000],\n",
              "       [    36,  60000],\n",
              "       [    52, 138000],\n",
              "       [    53,  82000],\n",
              "       [    41,  52000],\n",
              "       [    48,  30000],\n",
              "       [    48, 131000],\n",
              "       [    41,  60000],\n",
              "       [    41,  72000],\n",
              "       [    42,  75000],\n",
              "       [    36, 118000],\n",
              "       [    47, 107000],\n",
              "       [    38,  51000],\n",
              "       [    48, 119000],\n",
              "       [    42,  65000],\n",
              "       [    40,  65000],\n",
              "       [    57,  60000],\n",
              "       [    36,  54000],\n",
              "       [    58, 144000],\n",
              "       [    35,  79000],\n",
              "       [    38,  55000],\n",
              "       [    39, 122000],\n",
              "       [    53, 104000],\n",
              "       [    35,  75000],\n",
              "       [    38,  65000],\n",
              "       [    47,  51000],\n",
              "       [    47, 105000],\n",
              "       [    41,  63000],\n",
              "       [    53,  72000],\n",
              "       [    54, 108000],\n",
              "       [    39,  77000],\n",
              "       [    38,  61000],\n",
              "       [    38, 113000],\n",
              "       [    37,  75000],\n",
              "       [    42,  90000],\n",
              "       [    37,  57000],\n",
              "       [    36,  99000],\n",
              "       [    60,  34000],\n",
              "       [    54,  70000],\n",
              "       [    41,  72000],\n",
              "       [    40,  71000],\n",
              "       [    42,  54000],\n",
              "       [    43, 129000],\n",
              "       [    53,  34000],\n",
              "       [    47,  50000],\n",
              "       [    42,  79000],\n",
              "       [    42, 104000],\n",
              "       [    59,  29000],\n",
              "       [    58,  47000],\n",
              "       [    46,  88000],\n",
              "       [    38,  71000],\n",
              "       [    54,  26000],\n",
              "       [    60,  46000],\n",
              "       [    60,  83000],\n",
              "       [    39,  73000],\n",
              "       [    59, 130000],\n",
              "       [    37,  80000],\n",
              "       [    46,  32000],\n",
              "       [    46,  74000],\n",
              "       [    42,  53000],\n",
              "       [    41,  87000],\n",
              "       [    58,  23000],\n",
              "       [    42,  64000],\n",
              "       [    48,  33000],\n",
              "       [    44, 139000],\n",
              "       [    49,  28000],\n",
              "       [    57,  33000],\n",
              "       [    56,  60000],\n",
              "       [    49,  39000],\n",
              "       [    39,  71000],\n",
              "       [    47,  34000],\n",
              "       [    48,  35000],\n",
              "       [    48,  33000],\n",
              "       [    47,  23000],\n",
              "       [    45,  45000],\n",
              "       [    60,  42000],\n",
              "       [    39,  59000],\n",
              "       [    46,  41000],\n",
              "       [    51,  23000],\n",
              "       [    50,  20000],\n",
              "       [    36,  33000],\n",
              "       [    49,  36000]])"
            ]
          },
          "metadata": {},
          "execution_count": 10
        }
      ]
    },
    {
      "cell_type": "code",
      "source": [
        "X.shape"
      ],
      "metadata": {
        "colab": {
          "base_uri": "https://localhost:8080/"
        },
        "id": "ev3XHNVHoylS",
        "outputId": "506548f7-8a00-4c0d-831b-2bbf88564ce4"
      },
      "execution_count": 11,
      "outputs": [
        {
          "output_type": "execute_result",
          "data": {
            "text/plain": [
              "(400, 2)"
            ]
          },
          "metadata": {},
          "execution_count": 11
        }
      ]
    },
    {
      "cell_type": "code",
      "source": [
        "#output variable\n",
        "y= data.iloc[:,-1].values"
      ],
      "metadata": {
        "id": "30VWhoENo6kd"
      },
      "execution_count": 12,
      "outputs": []
    },
    {
      "cell_type": "code",
      "source": [
        "y.shape"
      ],
      "metadata": {
        "colab": {
          "base_uri": "https://localhost:8080/"
        },
        "id": "i0TP3ueRo7RL",
        "outputId": "6d167a50-aff2-4df8-d9ef-d64c6488f60c"
      },
      "execution_count": 13,
      "outputs": [
        {
          "output_type": "execute_result",
          "data": {
            "text/plain": [
              "(400,)"
            ]
          },
          "metadata": {},
          "execution_count": 13
        }
      ]
    },
    {
      "cell_type": "code",
      "source": [
        "#Second part\n",
        "#divide data for cross validation\n",
        "from sklearn.model_selection import train_test_split\n",
        "X_train,X_test,y_train,y_test= train_test_split(X,y,test_size=0.20)"
      ],
      "metadata": {
        "id": "YBh9XUd8pUoz"
      },
      "execution_count": 14,
      "outputs": []
    },
    {
      "cell_type": "code",
      "source": [
        "X_train.shape"
      ],
      "metadata": {
        "colab": {
          "base_uri": "https://localhost:8080/"
        },
        "id": "bbPxiC9CqHSr",
        "outputId": "e5c9f2e9-e3d5-44df-dc66-39d59e0ebaa2"
      },
      "execution_count": 15,
      "outputs": [
        {
          "output_type": "execute_result",
          "data": {
            "text/plain": [
              "(320, 2)"
            ]
          },
          "metadata": {},
          "execution_count": 15
        }
      ]
    },
    {
      "cell_type": "code",
      "source": [
        "X_test.shape"
      ],
      "metadata": {
        "colab": {
          "base_uri": "https://localhost:8080/"
        },
        "id": "Cr200cqeqOv2",
        "outputId": "3bbe784a-e7ad-4e0a-d06a-8696af509dbf"
      },
      "execution_count": 16,
      "outputs": [
        {
          "output_type": "execute_result",
          "data": {
            "text/plain": [
              "(80, 2)"
            ]
          },
          "metadata": {},
          "execution_count": 16
        }
      ]
    },
    {
      "cell_type": "code",
      "source": [
        "#we have to make scaling to standard.\n",
        "#Scale down Estimated salary to standard value\n",
        "from sklearn.preprocessing import StandardScaler\n",
        "scaler= StandardScaler()"
      ],
      "metadata": {
        "id": "BikaXYUwqNtB"
      },
      "execution_count": 24,
      "outputs": []
    },
    {
      "cell_type": "code",
      "source": [
        "X_train=scaler.fit_transform(X_train)\n",
        "X_train"
      ],
      "metadata": {
        "colab": {
          "base_uri": "https://localhost:8080/"
        },
        "id": "ZYOo8wTfq22T",
        "outputId": "4f0f8028-484a-4673-8d7a-ee90a332a5bc"
      },
      "execution_count": 26,
      "outputs": [
        {
          "output_type": "execute_result",
          "data": {
            "text/plain": [
              "array([[-1.81008278, -1.45533149],\n",
              "       [ 1.47138811,  0.04837284],\n",
              "       [-0.12246918,  0.04837284],\n",
              "       [-0.96627598,  0.60857642],\n",
              "       [ 0.06504344, -0.77719032],\n",
              "       [-1.1537886 , -1.57326908],\n",
              "       [-0.77876336,  0.60857642],\n",
              "       [ 0.34631237,  0.19579483],\n",
              "       [ 0.72133762, -1.33739389],\n",
              "       [ 0.81509393,  2.23021834],\n",
              "       [-0.77876336,  1.13929559],\n",
              "       [-1.06003229, -1.42584709],\n",
              "       [ 0.15879975, -0.24647114],\n",
              "       [-0.21622549, -0.48234633],\n",
              "       [-1.52881385, -1.2194563 ],\n",
              "       [-1.52881385, -0.15801795],\n",
              "       [-0.77876336,  1.40465518],\n",
              "       [-0.49749443, -0.74770592],\n",
              "       [ 1.47138811, -1.2489407 ],\n",
              "       [-1.34130122, -0.30543994],\n",
              "       [-1.71632647,  0.16631044],\n",
              "       [ 0.25255606, -0.48234633],\n",
              "       [ 0.72133762,  0.40218562],\n",
              "       [ 1.37763179, -1.01306551],\n",
              "       [-0.3099818 , -0.24647114],\n",
              "       [ 0.25255606,  0.34321683],\n",
              "       [-0.12246918,  2.02382755],\n",
              "       [ 0.90885024,  0.63806081],\n",
              "       [ 0.62758131, -1.07203431],\n",
              "       [-1.1537886 , -1.1310031 ],\n",
              "       [-0.3099818 ,  0.19579483],\n",
              "       [ 1.00260655, -1.1899719 ],\n",
              "       [ 1.84641335,  0.78548281],\n",
              "       [-0.59125074,  1.52259277],\n",
              "       [ 0.25255606, -0.27595554],\n",
              "       [ 0.34631237, -0.09904915],\n",
              "       [ 0.81509393, -1.42584709],\n",
              "       [-0.21622549, -1.04254991],\n",
              "       [-1.34130122, -0.39389314],\n",
              "       [-1.06003229,  0.46115442],\n",
              "       [ 0.15879975, -0.27595554],\n",
              "       [ 0.06504344,  1.93537435],\n",
              "       [ 0.34631237,  0.31373243],\n",
              "       [ 0.81509393, -0.54131513],\n",
              "       [ 0.34631237,  1.05084239],\n",
              "       [ 1.37763179,  2.20073394],\n",
              "       [-0.49749443,  1.31620198],\n",
              "       [-0.3099818 ,  0.19579483],\n",
              "       [ 0.72133762, -1.36687829],\n",
              "       [-1.81008278, -1.2784251 ],\n",
              "       [-0.59125074,  0.52012322],\n",
              "       [-0.3099818 , -0.45286193],\n",
              "       [-1.1537886 ,  0.34321683],\n",
              "       [-0.21622549, -0.54131513],\n",
              "       [-1.06003229, -0.30543994],\n",
              "       [-0.3099818 ,  0.13682604],\n",
              "       [-0.3099818 , -0.54131513],\n",
              "       [-0.68500705,  0.60857642],\n",
              "       [ 0.81509393, -0.62976833],\n",
              "       [ 0.72133762,  0.57909202],\n",
              "       [-0.3099818 , -0.62976833],\n",
              "       [ 1.09636286,  0.57909202],\n",
              "       [ 1.56514442, -0.86564352],\n",
              "       [ 2.03392597,  1.16877999],\n",
              "       [ 0.34631237, -0.42337754],\n",
              "       [-0.40373811,  1.37517078],\n",
              "       [ 0.06504344, -0.27595554],\n",
              "       [ 0.90885024, -1.1604875 ],\n",
              "       [-1.1537886 ,  0.10734164],\n",
              "       [ 1.19011917, -1.33739389],\n",
              "       [ 0.15879975,  1.13929559],\n",
              "       [ 1.94016966, -1.1604875 ],\n",
              "       [ 0.62758131, -1.36687829],\n",
              "       [ 0.06504344,  1.93537435],\n",
              "       [ 1.19011917,  2.28918714],\n",
              "       [ 0.90885024, -1.1310031 ],\n",
              "       [-0.59125074,  2.40712473],\n",
              "       [-0.87251967,  0.43167002],\n",
              "       [ 0.81509393, -1.2784251 ],\n",
              "       [-0.02871287, -0.54131513],\n",
              "       [ 1.00260655,  2.14176514],\n",
              "       [-0.87251967,  0.34321683],\n",
              "       [-0.12246918,  0.34321683],\n",
              "       [ 1.75265704,  1.58156157],\n",
              "       [-0.87251967,  0.43167002],\n",
              "       [-0.3099818 ,  0.10734164],\n",
              "       [ 0.72133762,  0.81496721],\n",
              "       [-0.40373811, -1.2784251 ],\n",
              "       [ 1.94016966, -0.77719032],\n",
              "       [ 2.03392597, -0.77719032],\n",
              "       [ 0.90885024,  1.93537435],\n",
              "       [-0.3099818 , -1.42584709],\n",
              "       [ 0.533825  ,  2.08279635],\n",
              "       [-0.21622549, -0.42337754],\n",
              "       [ 0.81509393, -0.74770592],\n",
              "       [ 0.25255606, -0.51183073],\n",
              "       [ 1.19011917,  1.93537435],\n",
              "       [-0.02871287, -0.54131513],\n",
              "       [ 0.15879975,  0.19579483],\n",
              "       [-1.62257016,  0.10734164],\n",
              "       [-1.81008278, -1.39636269],\n",
              "       [ 0.81509393, -1.1310031 ],\n",
              "       [-0.21622549,  0.19579483],\n",
              "       [-1.06003229, -0.42337754],\n",
              "       [-0.3099818 , -0.21698675],\n",
              "       [ 0.25255606,  0.10734164],\n",
              "       [-1.81008278,  0.49063882],\n",
              "       [-1.34130122, -1.2194563 ],\n",
              "       [-0.40373811, -0.74770592],\n",
              "       [-1.1537886 , -1.57326908],\n",
              "       [-1.43505753,  0.40218562],\n",
              "       [ 0.25255606,  0.54960762],\n",
              "       [-0.3099818 ,  1.16877999],\n",
              "       [ 0.90885024, -0.98358111],\n",
              "       [-1.06003229,  0.60857642],\n",
              "       [-1.52881385, -0.39389314],\n",
              "       [-0.87251967, -0.74770592],\n",
              "       [-0.59125074, -1.48481589],\n",
              "       [-0.12246918, -1.04254991],\n",
              "       [ 0.15879975,  0.10734164],\n",
              "       [-1.43505753, -1.1899719 ],\n",
              "       [-0.02871287, -0.21698675],\n",
              "       [ 0.90885024, -1.04254991],\n",
              "       [ 0.15879975, -0.33492434],\n",
              "       [-0.59125074,  1.43413958],\n",
              "       [-1.90383909,  0.40218562],\n",
              "       [ 0.81509393,  1.31620198],\n",
              "       [-0.21622549,  2.23021834],\n",
              "       [ 1.84641335,  2.23021834],\n",
              "       [-0.96627598,  1.61104597],\n",
              "       [ 0.25255606,  0.10734164],\n",
              "       [ 0.15879975,  0.07785724],\n",
              "       [ 0.15879975,  0.28424803],\n",
              "       [-0.68500705,  0.22527923],\n",
              "       [-0.3099818 , -1.2194563 ],\n",
              "       [-0.12246918,  0.28424803],\n",
              "       [-1.24754491,  0.34321683],\n",
              "       [-0.87251967, -1.1899719 ],\n",
              "       [-1.1537886 ,  1.46362397],\n",
              "       [ 0.90885024,  1.49310837],\n",
              "       [ 0.34631237,  0.04837284],\n",
              "       [-0.12246918,  0.19579483],\n",
              "       [ 1.84641335, -0.89512791],\n",
              "       [-1.1537886 ,  0.34321683],\n",
              "       [-1.06003229, -0.30543994],\n",
              "       [-0.02871287,  1.31620198],\n",
              "       [-0.02871287,  1.28671758],\n",
              "       [ 1.94016966,  0.22527923],\n",
              "       [-1.34130122, -1.33739389],\n",
              "       [ 0.90885024, -1.04254991],\n",
              "       [ 1.28387548, -1.39636269],\n",
              "       [ 1.28387548,  0.63806081],\n",
              "       [ 1.94016966,  0.43167002],\n",
              "       [-1.24754491,  0.31373243],\n",
              "       [-1.43505753, -0.06956475],\n",
              "       [ 2.03392597,  0.43167002],\n",
              "       [ 0.72133762,  0.16631044],\n",
              "       [-1.52881385,  0.37270123],\n",
              "       [-1.71632647, -1.33739389],\n",
              "       [-0.3099818 ,  0.07785724],\n",
              "       [ 0.90885024,  0.81496721],\n",
              "       [-0.3099818 ,  0.66754521],\n",
              "       [-0.3099818 , -0.89512791],\n",
              "       [ 0.81509393, -0.51183073],\n",
              "       [ 1.28387548,  1.34568638],\n",
              "       [ 0.25255606,  0.10734164],\n",
              "       [-1.06003229,  0.81496721],\n",
              "       [ 0.90885024,  1.84692116],\n",
              "       [ 0.25255606, -0.24647114],\n",
              "       [-1.62257016,  0.57909202],\n",
              "       [ 1.75265704, -1.2489407 ],\n",
              "       [ 1.28387548,  2.40712473],\n",
              "       [-0.96627598, -0.71822152],\n",
              "       [-0.3099818 , -1.36687829],\n",
              "       [ 0.06504344,  0.19579483],\n",
              "       [-1.71632647,  0.40218562],\n",
              "       [ 0.34631237, -0.09904915],\n",
              "       [-0.77876336,  0.54960762],\n",
              "       [-0.3099818 ,  0.25476363],\n",
              "       [ 0.34631237,  2.37764033],\n",
              "       [ 1.56514442,  1.81743676],\n",
              "       [-0.77876336,  0.31373243],\n",
              "       [ 0.44006868,  1.90588995],\n",
              "       [ 0.34631237, -0.12853355],\n",
              "       [-0.68500705,  0.16631044],\n",
              "       [ 2.03392597,  0.9918736 ],\n",
              "       [-0.12246918,  0.31373243],\n",
              "       [-1.90383909, -0.48234633],\n",
              "       [-0.12246918,  0.72651401],\n",
              "       [ 0.25255606,  0.07785724],\n",
              "       [ 0.34631237, -0.42337754],\n",
              "       [ 1.37763179,  0.40218562],\n",
              "       [-1.1537886 , -1.51430029],\n",
              "       [-1.34130122, -1.07203431],\n",
              "       [ 0.25255606,  0.31373243],\n",
              "       [-1.1537886 , -0.98358111],\n",
              "       [-0.3099818 , -0.71822152],\n",
              "       [-0.68500705, -1.57326908],\n",
              "       [ 0.72133762, -0.80667472],\n",
              "       [-0.77876336, -1.51430029],\n",
              "       [ 0.81509393, -1.33739389],\n",
              "       [-0.77876336,  0.34321683],\n",
              "       [-0.77876336, -1.57326908],\n",
              "       [-0.02871287,  0.07785724],\n",
              "       [-1.34130122, -1.45533149],\n",
              "       [ 1.09636286, -0.71822152],\n",
              "       [ 0.34631237,  0.34321683],\n",
              "       [ 0.34631237,  0.63806081],\n",
              "       [-0.40373811, -0.74770592],\n",
              "       [-1.71632647,  0.52012322],\n",
              "       [-1.1537886 ,  0.46115442],\n",
              "       [-0.3099818 , -0.39389314],\n",
              "       [-1.43505753, -1.42584709],\n",
              "       [-0.59125074,  1.96485875],\n",
              "       [-0.87251967,  0.19579483],\n",
              "       [-0.49749443, -0.51183073],\n",
              "       [ 1.75265704, -0.24647114],\n",
              "       [-0.87251967, -0.62976833],\n",
              "       [ 0.34631237,  0.13682604],\n",
              "       [-0.3099818 , -0.30543994],\n",
              "       [-0.12246918, -0.45286193],\n",
              "       [-1.71632647,  0.40218562],\n",
              "       [ 1.65890073,  1.05084239],\n",
              "       [ 1.47138811,  1.05084239],\n",
              "       [ 0.15879975, -0.21698675],\n",
              "       [ 0.72133762,  0.31373243],\n",
              "       [-0.21622549,  1.69949916],\n",
              "       [-0.21622549,  0.9034204 ],\n",
              "       [-1.81008278, -1.2489407 ],\n",
              "       [-0.59125074,  1.43413958],\n",
              "       [ 1.00260655,  0.16631044],\n",
              "       [-0.21622549, -0.15801795],\n",
              "       [ 0.90885024, -0.80667472],\n",
              "       [-0.21622549, -0.24647114],\n",
              "       [-0.02871287,  0.07785724],\n",
              "       [ 0.90885024,  2.05331195],\n",
              "       [ 0.06504344,  0.13682604],\n",
              "       [-1.1537886 , -0.74770592],\n",
              "       [ 0.15879975, -0.62976833],\n",
              "       [ 0.72133762, -0.27595554],\n",
              "       [-0.40373811,  0.10734164],\n",
              "       [-0.12246918,  0.16631044],\n",
              "       [ 1.09636286, -1.42584709],\n",
              "       [-0.3099818 ,  0.8444516 ],\n",
              "       [-0.12246918, -0.48234633],\n",
              "       [ 1.00260655, -0.86564352],\n",
              "       [-1.1537886 , -1.54378468],\n",
              "       [ 0.44006868,  1.78795236],\n",
              "       [ 1.47138811,  1.16877999],\n",
              "       [ 0.62758131, -1.2489407 ],\n",
              "       [ 0.72133762, -1.1899719 ],\n",
              "       [ 1.00260655, -0.95409671],\n",
              "       [-1.52881385, -1.48481589],\n",
              "       [-0.96627598, -0.27595554],\n",
              "       [ 1.37763179,  1.05084239],\n",
              "       [-0.49749443,  0.01888844],\n",
              "       [ 0.15879975,  2.17124954],\n",
              "       [-0.3099818 , -0.27595554],\n",
              "       [-1.06003229,  0.63806081],\n",
              "       [ 0.06504344,  1.58156157],\n",
              "       [-0.3099818 , -0.09904915],\n",
              "       [ 1.00260655,  0.57909202],\n",
              "       [-1.06003229, -1.51430029],\n",
              "       [-0.02871287, -0.39389314],\n",
              "       [-0.02871287, -0.21698675],\n",
              "       [ 0.06504344,  0.31373243],\n",
              "       [ 0.25255606, -0.48234633],\n",
              "       [-0.12246918,  0.25476363],\n",
              "       [-0.96627598, -1.07203431],\n",
              "       [ 1.65890073,  1.90588995],\n",
              "       [ 2.03392597, -1.01306551],\n",
              "       [-0.12246918,  0.07785724],\n",
              "       [-0.96627598,  0.49063882],\n",
              "       [ 0.90885024,  2.14176514],\n",
              "       [ 0.81509393, -1.01306551],\n",
              "       [ 0.62758131, -0.68873712],\n",
              "       [-0.96627598,  0.31373243],\n",
              "       [ 2.03392597, -0.77719032],\n",
              "       [ 0.06504344, -0.77719032],\n",
              "       [-0.68500705, -1.48481589],\n",
              "       [ 0.06504344,  0.25476363],\n",
              "       [ 1.65890073, -0.24647114],\n",
              "       [-1.81008278,  0.22527923],\n",
              "       [ 0.25255606,  0.10734164],\n",
              "       [ 1.94016966,  2.20073394],\n",
              "       [-0.21622549,  1.67001477],\n",
              "       [ 1.84641335, -0.62976833],\n",
              "       [ 0.06504344,  0.07785724],\n",
              "       [-0.3099818 , -0.54131513],\n",
              "       [-0.96627598, -0.39389314],\n",
              "       [-1.1537886 ,  0.52012322],\n",
              "       [ 0.25255606, -1.1310031 ],\n",
              "       [-0.40373811,  1.28671758],\n",
              "       [-0.02871287, -0.09904915],\n",
              "       [ 1.00260655, -1.1899719 ],\n",
              "       [ 1.84641335, -1.33739389],\n",
              "       [-0.87251967, -0.21698675],\n",
              "       [-1.71632647, -0.57079953],\n",
              "       [-0.68500705, -0.01059596],\n",
              "       [ 0.15879975,  0.19579483],\n",
              "       [ 1.94016966,  0.57909202],\n",
              "       [ 0.533825  , -0.86564352],\n",
              "       [ 2.03392597, -0.65925273],\n",
              "       [ 1.09636286, -0.95409671],\n",
              "       [ 1.75265704,  0.16631044],\n",
              "       [-0.77876336, -0.18750235],\n",
              "       [ 1.75265704, -1.04254991],\n",
              "       [ 0.15879975, -0.33492434],\n",
              "       [-0.49749443, -1.1899719 ],\n",
              "       [ 1.00260655,  0.60857642],\n",
              "       [-0.68500705, -0.06956475],\n",
              "       [ 0.34631237,  1.16877999],\n",
              "       [ 1.28387548,  2.05331195],\n",
              "       [-1.71632647, -0.95409671],\n",
              "       [-1.1537886 , -1.07203431],\n",
              "       [-1.43505753, -0.60028393],\n",
              "       [-1.62257016, -1.54378468],\n",
              "       [ 1.37763179,  0.10734164],\n",
              "       [-0.12246918,  0.34321683],\n",
              "       [-0.77876336, -0.57079953]])"
            ]
          },
          "metadata": {},
          "execution_count": 26
        }
      ]
    },
    {
      "cell_type": "code",
      "source": [
        "X_test=scaler.fit_transform(X_test)\n",
        "X_test"
      ],
      "metadata": {
        "colab": {
          "base_uri": "https://localhost:8080/"
        },
        "id": "XPx7aSLiq_CU",
        "outputId": "281dfbcc-7fe4-431f-8b48-f6efa7ceb81c"
      },
      "execution_count": 27,
      "outputs": [
        {
          "output_type": "execute_result",
          "data": {
            "text/plain": [
              "array([[ 0.21207244, -0.59555784],\n",
              "       [ 0.21207244, -0.09619985],\n",
              "       [-0.00543775, -1.53552582],\n",
              "       [-1.85427438,  0.31503614],\n",
              "       [ 0.21207244,  2.01872812],\n",
              "       [ 0.10331734,  1.25500413],\n",
              "       [-0.00543775, -1.47677782],\n",
              "       [ 0.32082753,  0.13879215],\n",
              "       [-0.33170304,  0.72627214],\n",
              "       [-0.87547852,  0.37378414],\n",
              "       [ 0.21207244, -0.38993984],\n",
              "       [ 0.21207244,  2.07747611],\n",
              "       [-0.98423362, -0.68367984],\n",
              "       [-1.20174381,  0.40315814],\n",
              "       [-0.33170304, -1.68239582],\n",
              "       [-0.44045814, -0.50743584],\n",
              "       [ 0.42958263, -0.41931384],\n",
              "       [ 0.42958263, -0.12557385],\n",
              "       [ 0.32082753, -0.47806184],\n",
              "       [ 1.51713358, -0.30181784],\n",
              "       [ 1.0821132 ,  0.10941815],\n",
              "       [ 1.0821132 ,  1.63686612],\n",
              "       [-0.54921323,  1.75436212],\n",
              "       [-0.76672342,  0.25628815],\n",
              "       [ 0.75584791,  0.13879215],\n",
              "       [ 1.29962339,  0.93189013],\n",
              "       [-0.44045814, -0.12557385],\n",
              "       [-0.00543775,  0.10941815],\n",
              "       [ 1.40837849, -0.03745185],\n",
              "       [-0.65796833,  2.13622411],\n",
              "       [ 0.53833772, -0.30181784],\n",
              "       [-0.76672342, -0.47806184],\n",
              "       [-1.85427438, -0.21369585],\n",
              "       [ 0.75584791, -0.65430584],\n",
              "       [ 1.1908683 , -1.27115983],\n",
              "       [-1.09298871,  0.34441014],\n",
              "       [-0.65796833, -0.94804583],\n",
              "       [-0.22294795, -1.00679383],\n",
              "       [ 0.42958263,  0.90251613],\n",
              "       [ 1.29962339,  0.87314214],\n",
              "       [-0.00543775,  2.10685011],\n",
              "       [-0.22294795,  2.16559811],\n",
              "       [ 2.16966416,  1.46062213],\n",
              "       [-1.74551929, -0.15494785],\n",
              "       [-1.52800909, -0.21369585],\n",
              "       [-0.00543775, -0.53680984],\n",
              "       [ 1.51713358,  0.31503614],\n",
              "       [-0.22294795, -0.44868784],\n",
              "       [-0.22294795, -1.30053383],\n",
              "       [-0.00543775, -1.06554183],\n",
              "       [-0.44045814, -1.21241183],\n",
              "       [ 0.21207244, -0.53680984],\n",
              "       [-1.09298871, -1.56489982],\n",
              "       [-0.87547852,  1.81311012],\n",
              "       [ 0.42958263,  0.60877614],\n",
              "       [-1.20174381, -0.59555784],\n",
              "       [-1.09298871,  0.43253214],\n",
              "       [ 1.29962339, -0.77180184],\n",
              "       [-1.3104989 , -0.36056584],\n",
              "       [-1.85427438, -0.91867183],\n",
              "       [-0.76672342, -1.12428983],\n",
              "       [-0.98423362,  0.16816615],\n",
              "       [ 1.84339887, -1.09491583],\n",
              "       [ 0.64709282, -0.36056584],\n",
              "       [ 2.49592945,  0.75564614],\n",
              "       [ 0.86460301,  1.07876013],\n",
              "       [ 0.32082753, -0.71305384],\n",
              "       [-0.76672342,  0.34441014],\n",
              "       [ 1.0821132 , -1.56489982],\n",
              "       [ 1.1908683 ,  1.22563013],\n",
              "       [ 0.64709282, -0.88929783],\n",
              "       [-0.44045814,  1.25500413],\n",
              "       [-0.00543775,  0.37378414],\n",
              "       [-1.20174381,  0.25628815],\n",
              "       [-0.87547852, -1.30053383],\n",
              "       [-0.87547852, -0.53680984],\n",
              "       [ 2.60468454,  1.60749212],\n",
              "       [-0.00543775, -0.09619985],\n",
              "       [ 0.53833772, -0.53680984],\n",
              "       [-1.09298871, -1.24178583]])"
            ]
          },
          "metadata": {},
          "execution_count": 27
        }
      ]
    },
    {
      "cell_type": "code",
      "source": [
        "#apply KNN on data\n",
        "#two methods to calculate value of K\n",
        "#first method:calculate value of K by square root of training data\n",
        "\n",
        "np.sqrt(X_train.shape[0])"
      ],
      "metadata": {
        "colab": {
          "base_uri": "https://localhost:8080/"
        },
        "id": "aYQ5V7J9rnpC",
        "outputId": "b41f0f69-78a7-42f7-e1e1-2dfe89f93eee"
      },
      "execution_count": 31,
      "outputs": [
        {
          "output_type": "execute_result",
          "data": {
            "text/plain": [
              "17.88854381999832"
            ]
          },
          "metadata": {},
          "execution_count": 31
        }
      ]
    },
    {
      "cell_type": "code",
      "source": [
        "K = 17\n"
      ],
      "metadata": {
        "id": "0wZUrOAfsZTy"
      },
      "execution_count": 33,
      "outputs": []
    },
    {
      "cell_type": "code",
      "source": [
        "from sklearn.neighbors import KNeighborsClassifier\n",
        "knn= KNeighborsClassifier(n_neighbors=K)"
      ],
      "metadata": {
        "id": "58JIAo-9strY"
      },
      "execution_count": 34,
      "outputs": []
    },
    {
      "cell_type": "code",
      "source": [
        "#train our model\n",
        "knn.fit(X_train,y_train)"
      ],
      "metadata": {
        "colab": {
          "base_uri": "https://localhost:8080/"
        },
        "id": "u75iCJHRtGL_",
        "outputId": "b4dd5e5a-4ef1-4a2e-8c20-3341e45f6b68"
      },
      "execution_count": 35,
      "outputs": [
        {
          "output_type": "execute_result",
          "data": {
            "text/plain": [
              "KNeighborsClassifier(n_neighbors=17)"
            ]
          },
          "metadata": {},
          "execution_count": 35
        }
      ]
    },
    {
      "cell_type": "code",
      "source": [
        "y_pred=knn.predict(X_test)"
      ],
      "metadata": {
        "id": "R1lGKIWc2-DP"
      },
      "execution_count": 36,
      "outputs": []
    },
    {
      "cell_type": "code",
      "source": [
        "y_pred"
      ],
      "metadata": {
        "colab": {
          "base_uri": "https://localhost:8080/"
        },
        "id": "ETOpATkh29nz",
        "outputId": "73dcc741-5fb7-4eb0-b27c-8c1b1faf30b0"
      },
      "execution_count": 37,
      "outputs": [
        {
          "output_type": "execute_result",
          "data": {
            "text/plain": [
              "array([0, 0, 0, 0, 1, 1, 0, 0, 0, 0, 0, 1, 0, 0, 0, 0, 0, 0, 0, 1, 1, 1,\n",
              "       1, 0, 0, 1, 0, 0, 1, 1, 0, 0, 0, 1, 1, 0, 0, 0, 1, 1, 1, 1, 1, 0,\n",
              "       0, 0, 1, 0, 0, 0, 0, 0, 0, 1, 0, 0, 0, 1, 0, 0, 0, 0, 1, 0, 1, 1,\n",
              "       0, 0, 1, 1, 1, 1, 0, 0, 0, 0, 1, 0, 0, 0])"
            ]
          },
          "metadata": {},
          "execution_count": 37
        }
      ]
    },
    {
      "cell_type": "code",
      "source": [
        "y_pred.shape"
      ],
      "metadata": {
        "colab": {
          "base_uri": "https://localhost:8080/"
        },
        "id": "D7z2LTQY3HxQ",
        "outputId": "d319deea-d014-465e-abba-0694a6e545eb"
      },
      "execution_count": 38,
      "outputs": [
        {
          "output_type": "execute_result",
          "data": {
            "text/plain": [
              "(80,)"
            ]
          },
          "metadata": {},
          "execution_count": 38
        }
      ]
    },
    {
      "cell_type": "code",
      "source": [
        "y_test.shape"
      ],
      "metadata": {
        "colab": {
          "base_uri": "https://localhost:8080/"
        },
        "id": "brJhOmPP3PXg",
        "outputId": "563a254f-2675-4e76-c2c3-836fa8e07135"
      },
      "execution_count": 39,
      "outputs": [
        {
          "output_type": "execute_result",
          "data": {
            "text/plain": [
              "(80,)"
            ]
          },
          "metadata": {},
          "execution_count": 39
        }
      ]
    },
    {
      "cell_type": "code",
      "source": [
        "from sklearn.metrics import accuracy_score\n",
        "accuracy_score(y_test,y_pred)"
      ],
      "metadata": {
        "colab": {
          "base_uri": "https://localhost:8080/"
        },
        "id": "5-oLxzSZ3Ufn",
        "outputId": "2f2b56b8-133f-4d08-f9df-f1ae9cc52efb"
      },
      "execution_count": 41,
      "outputs": [
        {
          "output_type": "execute_result",
          "data": {
            "text/plain": [
              "0.9125"
            ]
          },
          "metadata": {},
          "execution_count": 41
        }
      ]
    },
    {
      "cell_type": "code",
      "source": [
        "from sklearn.metrics import confusion_matrix\n",
        "confusion_matrix(y_test,y_pred)"
      ],
      "metadata": {
        "colab": {
          "base_uri": "https://localhost:8080/"
        },
        "id": "-OgHHCL83ibN",
        "outputId": "35175752-f476-49a0-a928-4c0b9b0459ad"
      },
      "execution_count": 42,
      "outputs": [
        {
          "output_type": "execute_result",
          "data": {
            "text/plain": [
              "array([[49,  4],\n",
              "       [ 3, 24]])"
            ]
          },
          "metadata": {},
          "execution_count": 42
        }
      ]
    },
    {
      "cell_type": "code",
      "source": [
        " #2nd method to find K\n",
        " accuracy= []\n",
        " \n",
        " for i in range(1,26):\n",
        "   knn=KNeighborsClassifier(n_neighbors=i)\n",
        "   knn.fit(X_train,y_train)\n",
        "   accuracy.append(accuracy_score(y_test,knn.predict(X_test)))\n"
      ],
      "metadata": {
        "id": "RbrL4nuh35Kl"
      },
      "execution_count": 43,
      "outputs": []
    },
    {
      "cell_type": "code",
      "source": [
        "accuracy"
      ],
      "metadata": {
        "colab": {
          "base_uri": "https://localhost:8080/"
        },
        "id": "twEowY5z346c",
        "outputId": "36e1b10f-c520-447f-d63b-0357bb432cf9"
      },
      "execution_count": 44,
      "outputs": [
        {
          "output_type": "execute_result",
          "data": {
            "text/plain": [
              "[0.9125,\n",
              " 0.925,\n",
              " 0.9375,\n",
              " 0.95,\n",
              " 0.9125,\n",
              " 0.9125,\n",
              " 0.9125,\n",
              " 0.8875,\n",
              " 0.8875,\n",
              " 0.8875,\n",
              " 0.9,\n",
              " 0.9,\n",
              " 0.9125,\n",
              " 0.9125,\n",
              " 0.9125,\n",
              " 0.9125,\n",
              " 0.9125,\n",
              " 0.9125,\n",
              " 0.9125,\n",
              " 0.9125,\n",
              " 0.9125,\n",
              " 0.9125,\n",
              " 0.9125,\n",
              " 0.9125,\n",
              " 0.9125]"
            ]
          },
          "metadata": {},
          "execution_count": 44
        }
      ]
    },
    {
      "cell_type": "code",
      "source": [
        "#length of function\n",
        "len(accuracy)"
      ],
      "metadata": {
        "colab": {
          "base_uri": "https://localhost:8080/"
        },
        "id": "F1MenLuV6WUH",
        "outputId": "f213e1c1-1788-4028-a5eb-669737adcdba"
      },
      "execution_count": 45,
      "outputs": [
        {
          "output_type": "execute_result",
          "data": {
            "text/plain": [
              "25"
            ]
          },
          "metadata": {},
          "execution_count": 45
        }
      ]
    },
    {
      "cell_type": "code",
      "source": [
        "#to check on which area there is highest percentage\n",
        "plt.plot(range(1,26),accuracy)"
      ],
      "metadata": {
        "colab": {
          "base_uri": "https://localhost:8080/",
          "height": 283
        },
        "id": "KNagNaKz6e76",
        "outputId": "c4a5e0d5-db55-40c5-9fb5-791201b0645d"
      },
      "execution_count": 46,
      "outputs": [
        {
          "output_type": "execute_result",
          "data": {
            "text/plain": [
              "[<matplotlib.lines.Line2D at 0x7f8b2ecfadd0>]"
            ]
          },
          "metadata": {},
          "execution_count": 46
        },
        {
          "output_type": "display_data",
          "data": {
            "text/plain": [
              "<Figure size 432x288 with 1 Axes>"
            ],
            "image/png": "[encoded data removed]"
          },
          "metadata": {
            "needs_background": "light"
          }
        }
      ]
    },
    {
      "cell_type": "code",
      "source": [
        "knn=KNeighborsClassifier(n_neighbors=20)\n",
        "knn.fit(X_train,y_train)"
      ],
      "metadata": {
        "colab": {
          "base_uri": "https://localhost:8080/"
        },
        "id": "NTOQPWC26zbe",
        "outputId": "4dd9b319-3c6a-484c-ab86-b25bf5e4ffc0"
      },
      "execution_count": 59,
      "outputs": [
        {
          "output_type": "execute_result",
          "data": {
            "text/plain": [
              "KNeighborsClassifier(n_neighbors=20)"
            ]
          },
          "metadata": {},
          "execution_count": 59
        }
      ]
    },
    {
      "cell_type": "code",
      "source": [
        "y_pred=knn.predict(X_test)"
      ],
      "metadata": {
        "id": "rL_UZBsB7MVa"
      },
      "execution_count": 60,
      "outputs": []
    },
    {
      "cell_type": "code",
      "source": [
        "accuracy_score(y_test,y_pred)"
      ],
      "metadata": {
        "colab": {
          "base_uri": "https://localhost:8080/"
        },
        "id": "AA-SCqI57YQl",
        "outputId": "2e1bfd03-eecb-42b6-87da-296a459432cf"
      },
      "execution_count": 61,
      "outputs": [
        {
          "output_type": "execute_result",
          "data": {
            "text/plain": [
              "0.9125"
            ]
          },
          "metadata": {},
          "execution_count": 61
        }
      ]
    },
    {
      "cell_type": "code",
      "source": [
        "#to create function to show output to create new input\n",
        "def predict_output():\n",
        "  age=int(input(\"enter the age\"))\n",
        "  salary=int(input(\"Enter the salary\"))\n",
        "\n",
        "  return np.array([[age],[salary]]) #2d array\n",
        "                                    #for any input, 2D matrix should be there.\n",
        "                                    "
      ],
      "metadata": {
        "id": "B25tyxJ87fYJ"
      },
      "execution_count": 63,
      "outputs": []
    },
    {
      "cell_type": "code",
      "source": [
        "predict_output()"
      ],
      "metadata": {
        "colab": {
          "base_uri": "https://localhost:8080/"
        },
        "id": "2ewjUNbw8iMk",
        "outputId": "992d77f6-1f4b-4653-b530-9a752cb5ff17"
      },
      "execution_count": 64,
      "outputs": [
        {
          "name": "stdout",
          "output_type": "stream",
          "text": [
            "enter the age20\n",
            "Enter the salary40000\n"
          ]
        },
        {
          "output_type": "execute_result",
          "data": {
            "text/plain": [
              "array([[   20],\n",
              "       [40000]])"
            ]
          },
          "metadata": {},
          "execution_count": 64
        }
      ]
    },
    {
      "cell_type": "code",
      "source": [
        "#our input has one one column\n",
        "#reshape with more columns\n",
        "def predict_output():\n",
        "  age=int(input(\"enter the age\"))\n",
        "  salary=int(input(\"Enter the salary\"))\n",
        "\n",
        "  X_new= np.array([[age],[salary]]).reshape(1,2)\n",
        "  X_new= scaler.transform(X_new)\n",
        "\n",
        "  if knn.predict(X_new)[0]==0:\n",
        "    return \"will not purchase\"\n",
        "  else:\n",
        "    return \"will purchase\"\n"
      ],
      "metadata": {
        "id": "9IJ-0rzQ9Hrb"
      },
      "execution_count": 77,
      "outputs": []
    },
    {
      "cell_type": "code",
      "source": [
        "predict_output()"
      ],
      "metadata": {
        "colab": {
          "base_uri": "https://localhost:8080/",
          "height": 72
        },
        "id": "Y2udOzUU965u",
        "outputId": "5f1a40dd-f232-46f8-9309-85f4b38cd735"
      },
      "execution_count": 79,
      "outputs": [
        {
          "name": "stdout",
          "output_type": "stream",
          "text": [
            "enter the age20\n",
            "Enter the salary70000\n"
          ]
        },
        {
          "output_type": "execute_result",
          "data": {
            "text/plain": [
              "'will not purchase'"
            ],
            "application/vnd.google.colaboratory.intrinsic+json": {
              "type": "string"
            }
          },
          "metadata": {},
          "execution_count": 79
        }
      ]
    },
    {
      "cell_type": "code",
      "source": [],
      "metadata": {
        "id": "YfkJuPTS9-4S"
      },
      "execution_count": null,
      "outputs": []
    }
  ]
}